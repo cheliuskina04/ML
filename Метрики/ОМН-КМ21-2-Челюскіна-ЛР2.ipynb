{
 "cells": [
  {
   "cell_type": "markdown",
   "metadata": {},
   "source": [
    "## <b> Лабораторна робота №2\n",
    "\"Метрики\"\\\n",
    "Виконала: Челюскіна Юлія КМ-21 (2-га підгрупа)"
   ]
  },
  {
   "cell_type": "markdown",
   "metadata": {},
   "source": [
    "---"
   ]
  },
  {
   "cell_type": "markdown",
   "metadata": {},
   "source": [
    "### Початкові дані (1)"
   ]
  },
  {
   "cell_type": "code",
   "execution_count": 3,
   "metadata": {},
   "outputs": [
    {
     "data": {
      "text/html": [
       "<div>\n",
       "<style scoped>\n",
       "    .dataframe tbody tr th:only-of-type {\n",
       "        vertical-align: middle;\n",
       "    }\n",
       "\n",
       "    .dataframe tbody tr th {\n",
       "        vertical-align: top;\n",
       "    }\n",
       "\n",
       "    .dataframe thead th {\n",
       "        text-align: right;\n",
       "    }\n",
       "</style>\n",
       "<table border=\"1\" class=\"dataframe\">\n",
       "  <thead>\n",
       "    <tr style=\"text-align: right;\">\n",
       "      <th></th>\n",
       "      <th>GT</th>\n",
       "      <th>Model_1_0</th>\n",
       "      <th>Model_2_1</th>\n",
       "    </tr>\n",
       "  </thead>\n",
       "  <tbody>\n",
       "    <tr>\n",
       "      <th>0</th>\n",
       "      <td>1</td>\n",
       "      <td>0.014745</td>\n",
       "      <td>0.996526</td>\n",
       "    </tr>\n",
       "    <tr>\n",
       "      <th>1</th>\n",
       "      <td>0</td>\n",
       "      <td>0.999735</td>\n",
       "      <td>0.003289</td>\n",
       "    </tr>\n",
       "    <tr>\n",
       "      <th>2</th>\n",
       "      <td>0</td>\n",
       "      <td>0.999786</td>\n",
       "      <td>0.125449</td>\n",
       "    </tr>\n",
       "    <tr>\n",
       "      <th>3</th>\n",
       "      <td>0</td>\n",
       "      <td>0.999695</td>\n",
       "      <td>0.000858</td>\n",
       "    </tr>\n",
       "    <tr>\n",
       "      <th>4</th>\n",
       "      <td>1</td>\n",
       "      <td>0.022115</td>\n",
       "      <td>0.786606</td>\n",
       "    </tr>\n",
       "    <tr>\n",
       "      <th>...</th>\n",
       "      <td>...</td>\n",
       "      <td>...</td>\n",
       "      <td>...</td>\n",
       "    </tr>\n",
       "    <tr>\n",
       "      <th>4395</th>\n",
       "      <td>0</td>\n",
       "      <td>0.999753</td>\n",
       "      <td>0.125449</td>\n",
       "    </tr>\n",
       "    <tr>\n",
       "      <th>4396</th>\n",
       "      <td>0</td>\n",
       "      <td>0.999777</td>\n",
       "      <td>0.125449</td>\n",
       "    </tr>\n",
       "    <tr>\n",
       "      <th>4397</th>\n",
       "      <td>0</td>\n",
       "      <td>0.909023</td>\n",
       "      <td>0.159557</td>\n",
       "    </tr>\n",
       "    <tr>\n",
       "      <th>4398</th>\n",
       "      <td>0</td>\n",
       "      <td>0.999737</td>\n",
       "      <td>0.125999</td>\n",
       "    </tr>\n",
       "    <tr>\n",
       "      <th>4399</th>\n",
       "      <td>0</td>\n",
       "      <td>0.999042</td>\n",
       "      <td>0.000000</td>\n",
       "    </tr>\n",
       "  </tbody>\n",
       "</table>\n",
       "<p>4400 rows × 3 columns</p>\n",
       "</div>"
      ],
      "text/plain": [
       "      GT  Model_1_0  Model_2_1\n",
       "0      1   0.014745   0.996526\n",
       "1      0   0.999735   0.003289\n",
       "2      0   0.999786   0.125449\n",
       "3      0   0.999695   0.000858\n",
       "4      1   0.022115   0.786606\n",
       "...   ..        ...        ...\n",
       "4395   0   0.999753   0.125449\n",
       "4396   0   0.999777   0.125449\n",
       "4397   0   0.909023   0.159557\n",
       "4398   0   0.999737   0.125999\n",
       "4399   0   0.999042   0.000000\n",
       "\n",
       "[4400 rows x 3 columns]"
      ]
     },
     "execution_count": 3,
     "metadata": {},
     "output_type": "execute_result"
    }
   ],
   "source": [
    "import pandas as pd\n",
    "df  = pd.read_csv(\"KM-21-2.csv\", delimiter=\",\")\n",
    "df\n",
    "\n"
   ]
  },
  {
   "cell_type": "markdown",
   "metadata": {},
   "source": [
    "### Збалансованість (2)\n"
   ]
  },
  {
   "cell_type": "code",
   "execution_count": 4,
   "metadata": {},
   "outputs": [
    {
     "data": {
      "text/html": [
       "<div>\n",
       "<style scoped>\n",
       "    .dataframe tbody tr th:only-of-type {\n",
       "        vertical-align: middle;\n",
       "    }\n",
       "\n",
       "    .dataframe tbody tr th {\n",
       "        vertical-align: top;\n",
       "    }\n",
       "\n",
       "    .dataframe thead th {\n",
       "        text-align: right;\n",
       "    }\n",
       "</style>\n",
       "<table border=\"1\" class=\"dataframe\">\n",
       "  <thead>\n",
       "    <tr style=\"text-align: right;\">\n",
       "      <th></th>\n",
       "      <th>GT</th>\n",
       "      <th>Model_1_0</th>\n",
       "      <th>Model_2_1</th>\n",
       "    </tr>\n",
       "  </thead>\n",
       "  <tbody>\n",
       "    <tr>\n",
       "      <th>count</th>\n",
       "      <td>4400.000000</td>\n",
       "      <td>4400.000000</td>\n",
       "      <td>4400.000000</td>\n",
       "    </tr>\n",
       "    <tr>\n",
       "      <th>mean</th>\n",
       "      <td>0.500000</td>\n",
       "      <td>0.502790</td>\n",
       "      <td>0.487270</td>\n",
       "    </tr>\n",
       "    <tr>\n",
       "      <th>std</th>\n",
       "      <td>0.500057</td>\n",
       "      <td>0.487012</td>\n",
       "      <td>0.435648</td>\n",
       "    </tr>\n",
       "    <tr>\n",
       "      <th>min</th>\n",
       "      <td>0.000000</td>\n",
       "      <td>0.000000</td>\n",
       "      <td>0.000000</td>\n",
       "    </tr>\n",
       "    <tr>\n",
       "      <th>25%</th>\n",
       "      <td>0.000000</td>\n",
       "      <td>0.009073</td>\n",
       "      <td>0.054026</td>\n",
       "    </tr>\n",
       "    <tr>\n",
       "      <th>50%</th>\n",
       "      <td>0.500000</td>\n",
       "      <td>0.216863</td>\n",
       "      <td>0.613696</td>\n",
       "    </tr>\n",
       "    <tr>\n",
       "      <th>75%</th>\n",
       "      <td>1.000000</td>\n",
       "      <td>0.999784</td>\n",
       "      <td>0.990292</td>\n",
       "    </tr>\n",
       "    <tr>\n",
       "      <th>max</th>\n",
       "      <td>1.000000</td>\n",
       "      <td>0.999973</td>\n",
       "      <td>0.998421</td>\n",
       "    </tr>\n",
       "  </tbody>\n",
       "</table>\n",
       "</div>"
      ],
      "text/plain": [
       "                GT    Model_1_0    Model_2_1\n",
       "count  4400.000000  4400.000000  4400.000000\n",
       "mean      0.500000     0.502790     0.487270\n",
       "std       0.500057     0.487012     0.435648\n",
       "min       0.000000     0.000000     0.000000\n",
       "25%       0.000000     0.009073     0.054026\n",
       "50%       0.500000     0.216863     0.613696\n",
       "75%       1.000000     0.999784     0.990292\n",
       "max       1.000000     0.999973     0.998421"
      ]
     },
     "execution_count": 4,
     "metadata": {},
     "output_type": "execute_result"
    }
   ],
   "source": [
    "df.describe()"
   ]
  },
  {
   "cell_type": "code",
   "execution_count": 5,
   "metadata": {},
   "outputs": [
    {
     "data": {
      "text/plain": [
       "GT\n",
       "1    2200\n",
       "0    2200\n",
       "Name: count, dtype: int64"
      ]
     },
     "execution_count": 5,
     "metadata": {},
     "output_type": "execute_result"
    }
   ],
   "source": [
    "#Визначити збалансованість набору даних. Вивести кількість об’єктів кожного класу\n",
    "df[\"GT\"].value_counts()"
   ]
  },
  {
   "cell_type": "markdown",
   "metadata": {},
   "source": [
    "### Метрики"
   ]
  },
  {
   "cell_type": "markdown",
   "metadata": {},
   "source": [
    "* Матриця помилок"
   ]
  },
  {
   "cell_type": "markdown",
   "metadata": {},
   "source": [
    "|                    | Predicted Positive (1) | Predicted Negative (0) |\n",
    "|--------------------|----------------------|----------------------|\n",
    "| **Actual Positive (1)** | TP                   | FP                   |\n",
    "| **Actual Negative (0)** | FN                   | TN                   |\n"
   ]
  },
  {
   "cell_type": "markdown",
   "metadata": {},
   "source": [
    "* Accuracy = ( TP+TN  ) / ( TP+TN+FP+FN ) \\\n",
    "*Limitations of Accuracy:* Imbalanced Datasets,  The cost of false positives and negatives"
   ]
  },
  {
   "cell_type": "markdown",
   "metadata": {},
   "source": [
    "* Precision = TP / ( TP+FP )\\\n",
    "(скільки з названих позитивними є справді позитивними)\\\n",
    "зменшення хибних тривог (1 рід помилок)"
   ]
  },
  {
   "cell_type": "markdown",
   "metadata": {},
   "source": [
    "* Recall = TP / TP + FN\\\n",
    "TPR (скільки з позитивних було названо як позитивні)\\\n",
    "зменшення пропуску цілі (2 рід помилок)"
   ]
  },
  {
   "cell_type": "markdown",
   "metadata": {},
   "source": [
    "* F-Score = 2 × ( ( Precision * Recall ) / ( Precision + Recall ) ) \\\n",
    "Гармонічне середнє точності та повноти"
   ]
  },
  {
   "cell_type": "code",
   "execution_count": 29,
   "metadata": {},
   "outputs": [],
   "source": [
    "import sklearn.metrics as m\n",
    "import matplotlib.pyplot as plt \n",
    "\n",
    "def model_metrics(res, goal):\n",
    "    \n",
    "\n",
    "    thresholds = [round((0.05+x*0.15), 2) for x in range(7)]\n",
    "    accuracy = []\n",
    "    precision = []\n",
    "    bal_accuracy = []\n",
    "    recall = []\n",
    "    f_score = []\n",
    "    matthews = []\n",
    "    J = []\n",
    "    roc_auc = []\n",
    "    rp_auc = []\n",
    "    \n",
    "    print(\"Thresholds: \", thresholds)   \n",
    "    for i in thresholds:\n",
    "        if goal == 0:\n",
    "            real = [x==0 for x in df[\"GT\"]]\n",
    "            pred = ( res > i).astype(int)\n",
    "        else:\n",
    "            real = df[\"GT\"]\n",
    "            pred = ( res > i).astype(int)\n",
    "        conf_matr = m.confusion_matrix(real, pred)\n",
    "        TP = conf_matr[0][0]\n",
    "        FP = conf_matr[0][1]\n",
    "        TN = conf_matr[1][1]\n",
    "        FN = conf_matr[1][0]\n",
    "        accuracy.append(m.accuracy_score(real, pred))\n",
    "        precision.append(m.precision_score(real, pred))\n",
    "        bal_accuracy.append(m.balanced_accuracy_score(real, pred))\n",
    "        recall.append(m.recall_score(real, pred))\n",
    "        f_score.append(m.f1_score(real, pred))\n",
    "        matthews.append(m.matthews_corrcoef(real, pred))\n",
    "        conf_matr = m.confusion_matrix(real, pred)\n",
    "        J.append(TP/(TP+FN) + TN/(TN+FP) - 1)\n",
    "        roc_auc.append(m.roc_auc_score(real, pred))\n",
    "        p, r, _ = m.precision_recall_curve(real, pred)\n",
    "        rp_auc.append(m.auc(r, p))\n",
    "\n",
    "    print(f\"Accuracy: {[round(a, 3) for a in accuracy]}\")\n",
    "    print(f\"Precision: {[round(p, 3) for p in precision]}\")\n",
    "    print(f\"Balanced Accuracy: {[round(b, 3) for b in bal_accuracy]}\")\n",
    "    print(f\"Recall: {[round(r, 3) for r in recall]}\")\n",
    "    print(f\"F-Score: {[round(f, 3) for f in f_score]}\")\n",
    "    print(f\"Matthews Corr Coef: {[round(m, 3) for m in matthews]}\")\n",
    "    print(f\"Youden's J Statistic: {[round(j, 3) for j in J]}\")\n",
    "    print(f\"ROC AUC: {[round(r, 3) for r in roc_auc]}\")\n",
    "    print(f\"Precision-Recall AUC: {[round(rp, 3) for rp in rp_auc]}\")\n",
    "    \n",
    "\n",
    "    "
   ]
  },
  {
   "cell_type": "code",
   "execution_count": 30,
   "metadata": {},
   "outputs": [
    {
     "name": "stdout",
     "output_type": "stream",
     "text": [
      "Thresholds:  [0.05, 0.2, 0.35, 0.5, 0.65, 0.8, 0.95]\n",
      "Accuracy: [0.939, 0.986, 0.991, 0.99, 0.989, 0.986, 0.978]\n",
      "Precision: [0.894, 0.984, 0.995, 0.995, 0.996, 0.996, 0.999]\n",
      "Balanced Accuracy: [0.939, 0.986, 0.991, 0.99, 0.989, 0.986, 0.978]\n",
      "Recall: [0.995, 0.989, 0.986, 0.984, 0.981, 0.975, 0.957]\n",
      "F-Score: [0.942, 0.986, 0.991, 0.99, 0.989, 0.986, 0.977]\n",
      "Matthews Corr Coef: [0.883, 0.973, 0.981, 0.98, 0.977, 0.972, 0.957]\n",
      "Youden's J Statistic: [0.889, 0.973, 0.981, 0.98, 0.977, 0.972, 0.958]\n",
      "ROC AUC: [0.939, 0.986, 0.991, 0.99, 0.989, 0.986, 0.978]\n",
      "Precision-Recall AUC: [0.946, 0.989, 0.994, 0.994, 0.993, 0.992, 0.989]\n"
     ]
    }
   ],
   "source": [
    "model_metrics(df[\"Model_1_0\"], 0)"
   ]
  },
  {
   "cell_type": "code",
   "execution_count": 23,
   "metadata": {},
   "outputs": [
    {
     "name": "stdout",
     "output_type": "stream",
     "text": [
      "Thresholds:  [0.05, 0.2, 0.35, 0.5, 0.65]\n",
      "Accuracy: [0.747, 0.991, 0.991, 0.991, 0.985]\n",
      "Precision: [0.664, 0.987, 0.987, 0.988, 0.99]\n",
      "Balanced Accuracy: [0.747, 0.991, 0.991, 0.991, 0.985]\n",
      "Recall: [1.0, 0.995, 0.995, 0.995, 0.98]\n",
      "F-Score: [0.798, 0.991, 0.991, 0.991, 0.985]\n",
      "Matthews Corr Coef: [0.573, 0.982, 0.983, 0.983, 0.97]\n",
      "Youden's J Statistic: [0.663, 0.982, 0.983, 0.983, 0.97]\n",
      "ROC AUC: [0.747, 0.991, 0.991, 0.991, 0.985]\n",
      "Precision-Recall AUC: [0.832, 0.992, 0.993, 0.993, 0.99]\n"
     ]
    }
   ],
   "source": [
    "model_metrics(df[\"Model_2_1\"], 1)"
   ]
  },
  {
   "cell_type": "markdown",
   "metadata": {},
   "source": [
    "Використані джерела:\n",
    "* https://www.geeksforgeeks.org/sklearn-classification-metrics/\n",
    "* https://www.kaggle.com/code/pythonafroz/evaluation-metrics-used-in-machine-learning"
   ]
  }
 ],
 "metadata": {
  "kernelspec": {
   "display_name": "Python 3",
   "language": "python",
   "name": "python3"
  },
  "language_info": {
   "codemirror_mode": {
    "name": "ipython",
    "version": 3
   },
   "file_extension": ".py",
   "mimetype": "text/x-python",
   "name": "python",
   "nbconvert_exporter": "python",
   "pygments_lexer": "ipython3",
   "version": "3.11.8"
  }
 },
 "nbformat": 4,
 "nbformat_minor": 2
}
